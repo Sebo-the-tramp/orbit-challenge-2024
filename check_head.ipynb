{
 "cells": [
  {
   "cell_type": "code",
   "execution_count": 9,
   "metadata": {},
   "outputs": [
    {
     "ename": "AttributeError",
     "evalue": "'collections.OrderedDict' object has no attribute 'eval'",
     "output_type": "error",
     "traceback": [
      "\u001b[0;31m---------------------------------------------------------------------------\u001b[0m",
      "\u001b[0;31mAttributeError\u001b[0m                            Traceback (most recent call last)",
      "Cell \u001b[0;32mIn[9], line 5\u001b[0m\n\u001b[1;32m      3\u001b[0m \u001b[38;5;66;03m# Assuming you have a model loaded or defined\u001b[39;00m\n\u001b[1;32m      4\u001b[0m model \u001b[38;5;241m=\u001b[39m torch\u001b[38;5;241m.\u001b[39mload(\u001b[38;5;124m'\u001b[39m\u001b[38;5;124m/home/zhumakhanova/Desktop/cv703_project/orbit-challenge-2024/pretrained/efficientnet-b0-355c32eb.pth\u001b[39m\u001b[38;5;124m'\u001b[39m)  \u001b[38;5;66;03m# or any model object\u001b[39;00m\n\u001b[0;32m----> 5\u001b[0m \u001b[43mmodel\u001b[49m\u001b[38;5;241;43m.\u001b[39;49m\u001b[43meval\u001b[49m() \u001b[38;5;66;03m# This assumes the final layer is named 'fc'\u001b[39;00m\n\u001b[1;32m      7\u001b[0m \u001b[38;5;28mprint\u001b[39m(model\u001b[38;5;241m.\u001b[39mclassifier\u001b[38;5;241m.\u001b[39mchildren())\n\u001b[1;32m     11\u001b[0m \u001b[38;5;66;03m# # The number of classes can often be inferred from the output layer's out_features\u001b[39;00m\n\u001b[1;32m     12\u001b[0m \u001b[38;5;66;03m# num_classes = model.classifier.out_features  # This assumes the final layer is named 'fc'\u001b[39;00m\n\u001b[1;32m     13\u001b[0m \u001b[38;5;66;03m# print(f\"The number of classes is: {num_classes}\")\u001b[39;00m\n",
      "\u001b[0;31mAttributeError\u001b[0m: 'collections.OrderedDict' object has no attribute 'eval'"
     ]
    }
   ],
   "source": [
    "\n"
   ]
  },
  {
   "cell_type": "code",
   "execution_count": null,
   "metadata": {},
   "outputs": [],
   "source": [
    "import torch\n",
    "\n",
    "# Assuming you have a model loaded or defined\n",
    "model = torch.load('/home/zhumakhanova/Desktop/cv703_project/orbit-challenge-2024/pretrained/efficientnet-b0-355c32eb.pth')  # or any model object\n",
    "model.eval() # This assumes the final layer is named 'fc'\n",
    "\n",
    "print(model.classifier.children())\n",
    "\n",
    "\n",
    "\n",
    "# # The number of classes can often be inferred from the output layer's out_features\n",
    "# num_classes = model.classifier.out_features  # This assumes the final layer is named 'fc'\n",
    "# print(f\"The number of classes is: {num_classes}\")"
   ]
  }
 ],
 "metadata": {
  "kernelspec": {
   "display_name": "flash",
   "language": "python",
   "name": "python3"
  },
  "language_info": {
   "codemirror_mode": {
    "name": "ipython",
    "version": 3
   },
   "file_extension": ".py",
   "mimetype": "text/x-python",
   "name": "python",
   "nbconvert_exporter": "python",
   "pygments_lexer": "ipython3",
   "version": "3.8.19"
  }
 },
 "nbformat": 4,
 "nbformat_minor": 2
}
